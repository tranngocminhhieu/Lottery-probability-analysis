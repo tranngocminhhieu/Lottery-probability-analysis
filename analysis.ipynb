{
 "cells": [
  {
   "cell_type": "markdown",
   "metadata": {},
   "source": [
    "# Lottery Probability Analysis for Responsible Gambling\n",
    "\n",
    "![image.png](image.png)\n",
    "\n",
    "A renowned medical institute focused on preventing and treating gambling addiction is developing a mobile application to assist lottery players in making informed decisions about their chances of winning. While their in-house engineering team is responsible for app development, our task is to design and implement the probability calculation engine that powers the app's insights.\n",
    "\n",
    "For the initial release, our focus is on the [6/49 lottery](https://en.wikipedia.org/wiki/Lotto_6/49). We will build core functions that allow users to answer key probability-related questions, including:\n",
    "\n",
    "- What are the odds of winning the jackpot with a single ticket?\n",
    "- How does purchasing multiple tickets impact the probability of winning?\n",
    "- What is the likelihood of matching a specific number of winning numbers (e.g., two, three, four, or five)?"
   ]
  },
  {
   "cell_type": "markdown",
   "metadata": {},
   "source": [
    "## Core Probability Functions"
   ]
  },
  {
   "cell_type": "code",
   "execution_count": 1,
   "metadata": {
    "ExecuteTime": {
     "end_time": "2025-02-17T15:35:01.136906Z",
     "start_time": "2025-02-17T15:35:01.132229Z"
    },
    "collapsed": true
   },
   "outputs": [],
   "source": [
    "def factorial(n):\n",
    "    final_product = 1\n",
    "    for i in range(n, 0, -1):\n",
    "        final_product *= i\n",
    "    return final_product"
   ]
  },
  {
   "cell_type": "code",
   "execution_count": 2,
   "metadata": {
    "ExecuteTime": {
     "end_time": "2025-02-17T15:35:01.141175Z",
     "start_time": "2025-02-17T15:35:01.138498Z"
    }
   },
   "outputs": [],
   "source": [
    "def combination(n, k):\n",
    "    return factorial(n) / (factorial(k) * factorial(n - k))"
   ]
  },
  {
   "cell_type": "code",
   "execution_count": 3,
   "metadata": {
    "ExecuteTime": {
     "end_time": "2025-02-17T15:35:01.146644Z",
     "start_time": "2025-02-17T15:35:01.142716Z"
    }
   },
   "outputs": [
    {
     "data": {
      "text/plain": [
       "270725.0"
      ]
     },
     "execution_count": 3,
     "metadata": {},
     "output_type": "execute_result"
    }
   ],
   "source": [
    "combination(52, 4)"
   ]
  },
  {
   "cell_type": "code",
   "execution_count": 4,
   "metadata": {
    "ExecuteTime": {
     "end_time": "2025-02-17T15:35:01.150441Z",
     "start_time": "2025-02-17T15:35:01.147479Z"
    }
   },
   "outputs": [
    {
     "data": {
      "text/plain": [
       "120"
      ]
     },
     "execution_count": 4,
     "metadata": {},
     "output_type": "execute_result"
    }
   ],
   "source": [
    "factorial(5)"
   ]
  },
  {
   "cell_type": "markdown",
   "metadata": {},
   "source": [
    "## Winning Probability for a Single Ticket\n",
    "\n",
    "In the 6/49 lottery, six numbers are randomly drawn from a set of 49. A player wins the jackpot only if all six numbers on their ticket match the drawn numbers exactly. Even a single number mismatch results in a loss.\n",
    "\n",
    "To help players understand their odds, we will implement a function that calculates and displays the probability of winning with a single ticket in a user-friendly manner.\n",
    "\n",
    "### Engineering Considerations:\n",
    "- Users input six unique numbers from 1 to 49.\n",
    "- The function receives these numbers as a Python list.\n",
    "- The probability should be presented in an easy-to-understand format."
   ]
  },
  {
   "cell_type": "code",
   "execution_count": 5,
   "metadata": {
    "ExecuteTime": {
     "end_time": "2025-02-17T15:35:01.154682Z",
     "start_time": "2025-02-17T15:35:01.152268Z"
    }
   },
   "outputs": [],
   "source": [
    "def one_ticket_probability(numbers: list):\n",
    "    total_outcomes = combination(n=49, k=6)\n",
    "    probability = 1 / total_outcomes\n",
    "    print(f\"Probability of winning the jackpot with {numbers}: {probability * 100:.10f}%\")\n",
    "    print(f\"You need to buy {1/probability / 2:,.0f} tickets to have a 50% chance of winning.\")"
   ]
  },
  {
   "cell_type": "code",
   "execution_count": 6,
   "metadata": {
    "ExecuteTime": {
     "end_time": "2025-02-17T15:35:01.158912Z",
     "start_time": "2025-02-17T15:35:01.155213Z"
    }
   },
   "outputs": [
    {
     "name": "stdout",
     "output_type": "stream",
     "text": [
      "Probability of winning the jackpot with [1, 2, 3, 4, 5, 6]: 0.0000071511%\n",
      "You need to buy 6,991,908 tickets to have a 50% chance of winning.\n"
     ]
    }
   ],
   "source": [
    "one_ticket_probability([1,2,3,4,5,6])"
   ]
  },
  {
   "cell_type": "markdown",
   "metadata": {},
   "source": [
    "## Historical Data Analysis for Canada 6/49 Lottery\n",
    "\n",
    "To provide additional insights, we analyze historical data from the Canada 6/49 lottery, available on [Kaggle](https://www.kaggle.com/datascienceai/lottery-dataset)."
   ]
  },
  {
   "cell_type": "code",
   "execution_count": 7,
   "metadata": {
    "ExecuteTime": {
     "end_time": "2025-02-17T15:35:01.688459Z",
     "start_time": "2025-02-17T15:35:01.159654Z"
    },
    "collapsed": true
   },
   "outputs": [],
   "source": [
    "import pandas as pd"
   ]
  },
  {
   "cell_type": "code",
   "execution_count": 8,
   "metadata": {
    "ExecuteTime": {
     "end_time": "2025-02-17T15:35:01.698325Z",
     "start_time": "2025-02-17T15:35:01.689205Z"
    }
   },
   "outputs": [],
   "source": [
    "df = pd.read_csv('649.csv')"
   ]
  },
  {
   "cell_type": "code",
   "execution_count": 9,
   "metadata": {
    "ExecuteTime": {
     "end_time": "2025-02-17T15:35:01.700841Z",
     "start_time": "2025-02-17T15:35:01.698917Z"
    },
    "scrolled": true
   },
   "outputs": [
    {
     "name": "stdout",
     "output_type": "stream",
     "text": [
      "Dataset contains 3,665 rows and 11 columns\n"
     ]
    }
   ],
   "source": [
    "print(f\"Dataset contains {df.shape[0]:,} rows and {df.shape[1]:,} columns\")"
   ]
  },
  {
   "cell_type": "code",
   "execution_count": 10,
   "metadata": {
    "ExecuteTime": {
     "end_time": "2025-02-17T15:35:01.707809Z",
     "start_time": "2025-02-17T15:35:01.701591Z"
    }
   },
   "outputs": [
    {
     "data": {
      "text/html": [
       "<div>\n",
       "<style scoped>\n",
       "    .dataframe tbody tr th:only-of-type {\n",
       "        vertical-align: middle;\n",
       "    }\n",
       "\n",
       "    .dataframe tbody tr th {\n",
       "        vertical-align: top;\n",
       "    }\n",
       "\n",
       "    .dataframe thead th {\n",
       "        text-align: right;\n",
       "    }\n",
       "</style>\n",
       "<table border=\"1\" class=\"dataframe\">\n",
       "  <thead>\n",
       "    <tr style=\"text-align: right;\">\n",
       "      <th></th>\n",
       "      <th>PRODUCT</th>\n",
       "      <th>DRAW NUMBER</th>\n",
       "      <th>SEQUENCE NUMBER</th>\n",
       "      <th>DRAW DATE</th>\n",
       "      <th>NUMBER DRAWN 1</th>\n",
       "      <th>NUMBER DRAWN 2</th>\n",
       "      <th>NUMBER DRAWN 3</th>\n",
       "      <th>NUMBER DRAWN 4</th>\n",
       "      <th>NUMBER DRAWN 5</th>\n",
       "      <th>NUMBER DRAWN 6</th>\n",
       "      <th>BONUS NUMBER</th>\n",
       "    </tr>\n",
       "  </thead>\n",
       "  <tbody>\n",
       "    <tr>\n",
       "      <th>0</th>\n",
       "      <td>649</td>\n",
       "      <td>1</td>\n",
       "      <td>0</td>\n",
       "      <td>6/12/1982</td>\n",
       "      <td>3</td>\n",
       "      <td>11</td>\n",
       "      <td>12</td>\n",
       "      <td>14</td>\n",
       "      <td>41</td>\n",
       "      <td>43</td>\n",
       "      <td>13</td>\n",
       "    </tr>\n",
       "    <tr>\n",
       "      <th>1</th>\n",
       "      <td>649</td>\n",
       "      <td>2</td>\n",
       "      <td>0</td>\n",
       "      <td>6/19/1982</td>\n",
       "      <td>8</td>\n",
       "      <td>33</td>\n",
       "      <td>36</td>\n",
       "      <td>37</td>\n",
       "      <td>39</td>\n",
       "      <td>41</td>\n",
       "      <td>9</td>\n",
       "    </tr>\n",
       "    <tr>\n",
       "      <th>2</th>\n",
       "      <td>649</td>\n",
       "      <td>3</td>\n",
       "      <td>0</td>\n",
       "      <td>6/26/1982</td>\n",
       "      <td>1</td>\n",
       "      <td>6</td>\n",
       "      <td>23</td>\n",
       "      <td>24</td>\n",
       "      <td>27</td>\n",
       "      <td>39</td>\n",
       "      <td>34</td>\n",
       "    </tr>\n",
       "    <tr>\n",
       "      <th>3</th>\n",
       "      <td>649</td>\n",
       "      <td>4</td>\n",
       "      <td>0</td>\n",
       "      <td>7/3/1982</td>\n",
       "      <td>3</td>\n",
       "      <td>9</td>\n",
       "      <td>10</td>\n",
       "      <td>13</td>\n",
       "      <td>20</td>\n",
       "      <td>43</td>\n",
       "      <td>34</td>\n",
       "    </tr>\n",
       "    <tr>\n",
       "      <th>4</th>\n",
       "      <td>649</td>\n",
       "      <td>5</td>\n",
       "      <td>0</td>\n",
       "      <td>7/10/1982</td>\n",
       "      <td>5</td>\n",
       "      <td>14</td>\n",
       "      <td>21</td>\n",
       "      <td>31</td>\n",
       "      <td>34</td>\n",
       "      <td>47</td>\n",
       "      <td>45</td>\n",
       "    </tr>\n",
       "  </tbody>\n",
       "</table>\n",
       "</div>"
      ],
      "text/plain": [
       "   PRODUCT  DRAW NUMBER  SEQUENCE NUMBER  DRAW DATE  NUMBER DRAWN 1  \\\n",
       "0      649            1                0  6/12/1982               3   \n",
       "1      649            2                0  6/19/1982               8   \n",
       "2      649            3                0  6/26/1982               1   \n",
       "3      649            4                0   7/3/1982               3   \n",
       "4      649            5                0  7/10/1982               5   \n",
       "\n",
       "   NUMBER DRAWN 2  NUMBER DRAWN 3  NUMBER DRAWN 4  NUMBER DRAWN 5  \\\n",
       "0              11              12              14              41   \n",
       "1              33              36              37              39   \n",
       "2               6              23              24              27   \n",
       "3               9              10              13              20   \n",
       "4              14              21              31              34   \n",
       "\n",
       "   NUMBER DRAWN 6  BONUS NUMBER  \n",
       "0              43            13  \n",
       "1              41             9  \n",
       "2              39            34  \n",
       "3              43            34  \n",
       "4              47            45  "
      ]
     },
     "execution_count": 10,
     "metadata": {},
     "output_type": "execute_result"
    }
   ],
   "source": [
    "df.head()"
   ]
  },
  {
   "cell_type": "markdown",
   "metadata": {},
   "source": [
    "The dataset includes records of 3,665 drawings from 1982 to 2018. Each draw has six winning numbers recorded in the following columns:\n",
    "- `NUMBER DRAWN 1`\n",
    "- `NUMBER DRAWN 2`\n",
    "- `NUMBER DRAWN 3`\n",
    "- `NUMBER DRAWN 4`\n",
    "- `NUMBER DRAWN 5`\n",
    "- `NUMBER DRAWN 6`"
   ]
  },
  {
   "cell_type": "markdown",
   "metadata": {},
   "source": [
    "## Checking Historical Occurrences of a Ticket\n",
    "\n",
    "We will implement a function that allows users to check how many times their selected ticket has appeared in historical draws and determine the probability of winning in the next drawing.\n",
    "\n",
    "### Engineering Considerations:\n",
    "- The function takes a list of six unique numbers.\n",
    "- It compares the user’s selection against historical records.\n",
    "- It prints:\n",
    "    - The number of past occurrences.\n",
    "    - The probability of winning in the next draw."
   ]
  },
  {
   "cell_type": "code",
   "execution_count": 11,
   "metadata": {
    "ExecuteTime": {
     "end_time": "2025-02-17T15:35:01.710947Z",
     "start_time": "2025-02-17T15:35:01.708648Z"
    }
   },
   "outputs": [],
   "source": [
    "def extract_numbers(df):\n",
    "    cols = [col for col in df.columns if 'NUMBER DRAWN' in col]\n",
    "    data = [set(i) for i in df[cols].values.tolist()]\n",
    "    return data"
   ]
  },
  {
   "cell_type": "code",
   "execution_count": 12,
   "metadata": {
    "ExecuteTime": {
     "end_time": "2025-02-17T15:35:01.717044Z",
     "start_time": "2025-02-17T15:35:01.711756Z"
    },
    "collapsed": true
   },
   "outputs": [],
   "source": [
    "winning_numbers = pd.Series(extract_numbers(df))"
   ]
  },
  {
   "cell_type": "code",
   "execution_count": 13,
   "metadata": {
    "ExecuteTime": {
     "end_time": "2025-02-17T15:35:01.720854Z",
     "start_time": "2025-02-17T15:35:01.719052Z"
    },
    "collapsed": true
   },
   "outputs": [],
   "source": [
    "def check_historical_occurrence(numbers: list, historical_numbers=winning_numbers):\n",
    "    numbers = set(numbers)\n",
    "    matches = (historical_numbers == numbers).sum()\n",
    "    print(f\"Your numbers matched {matches} times in history.\")\n",
    "    print(\"Probability of winning the next draw with these numbers is 0.0000071511%\")"
   ]
  },
  {
   "cell_type": "code",
   "execution_count": 14,
   "metadata": {
    "ExecuteTime": {
     "end_time": "2025-02-17T15:35:01.724707Z",
     "start_time": "2025-02-17T15:35:01.721634Z"
    },
    "scrolled": true
   },
   "outputs": [
    {
     "name": "stdout",
     "output_type": "stream",
     "text": [
      "Your numbers matched 1 times in history.\n",
      "Probability of winning the next draw with these numbers is 0.0000071511%\n"
     ]
    }
   ],
   "source": [
    "check_historical_occurrence([3, 11, 12, 14, 41, 43])"
   ]
  },
  {
   "cell_type": "markdown",
   "metadata": {},
   "source": [
    "## Multi-ticket Probability\n",
    "\n",
    "Many lottery players buy multiple tickets to increase their odds. To help them assess the impact, we will create a function that calculates the probability of winning based on the number of tickets purchased.\n",
    "\n",
    "### Engineering Considerations:\n",
    "- Users input the number of tickets they intend to buy.\n",
    "- The function calculates the probability of winning based on that input.\n"
   ]
  },
  {
   "cell_type": "code",
   "execution_count": 15,
   "metadata": {
    "ExecuteTime": {
     "end_time": "2025-02-17T15:35:01.727970Z",
     "start_time": "2025-02-17T15:35:01.725331Z"
    },
    "collapsed": true
   },
   "outputs": [],
   "source": [
    "def multi_ticket_probability(tickets: int):\n",
    "    total_outcomes = combination(n=49, k=6)\n",
    "    if not (1 <= tickets <= total_outcomes):\n",
    "        raise ValueError(f\"Number of tickets must be between 1 and {total_outcomes:,.0f}\")\n",
    "    probability = tickets / total_outcomes\n",
    "    print(f\"Winning probability with {tickets:,} ticket{'s' if tickets > 1 else ''}: {probability * 100:.4f}%\")"
   ]
  },
  {
   "cell_type": "code",
   "execution_count": 16,
   "metadata": {
    "ExecuteTime": {
     "end_time": "2025-02-17T15:35:01.730212Z",
     "start_time": "2025-02-17T15:35:01.728536Z"
    }
   },
   "outputs": [
    {
     "name": "stdout",
     "output_type": "stream",
     "text": [
      "Winning probability with 1,500 tickets: 0.0107%\n"
     ]
    }
   ],
   "source": [
    "multi_ticket_probability(tickets=1500)"
   ]
  },
  {
   "cell_type": "code",
   "execution_count": 17,
   "metadata": {
    "ExecuteTime": {
     "end_time": "2025-02-17T15:35:01.732419Z",
     "start_time": "2025-02-17T15:35:01.730761Z"
    }
   },
   "outputs": [
    {
     "name": "stdout",
     "output_type": "stream",
     "text": [
      "Winning probability with 1 ticket: 0.0000%\n",
      "Winning probability with 10 tickets: 0.0001%\n",
      "Winning probability with 100 tickets: 0.0007%\n",
      "Winning probability with 10,000 tickets: 0.0715%\n",
      "Winning probability with 1,000,000 tickets: 7.1511%\n",
      "Winning probability with 6,991,908 tickets: 50.0000%\n",
      "Winning probability with 13,983,816 tickets: 100.0000%\n"
     ]
    }
   ],
   "source": [
    "for tickets in [1, 10, 100, 10000, 1000000, 6991908, 13983816]:\n",
    "    multi_ticket_probability(tickets)"
   ]
  },
  {
   "cell_type": "markdown",
   "metadata": {},
   "source": [
    "## Probability of Winning Smaller Prizes\n",
    "\n",
    "In most 6/49 lotteries, players can win smaller prizes by matching two, three, four, or five numbers. We will create a function that calculates the probability of winning with fewer than six matching numbers.\n",
    "\n",
    "### Engineering Considerations:\n",
    "- Users input:\n",
    "    - Six unique numbers.\n",
    "    - A target match count (between 2 and 5).\n",
    "- The function prints the probability of achieving the specified match count."
   ]
  },
  {
   "cell_type": "code",
   "execution_count": 18,
   "metadata": {
    "ExecuteTime": {
     "end_time": "2025-02-17T15:35:01.735121Z",
     "start_time": "2025-02-17T15:35:01.732951Z"
    },
    "collapsed": true
   },
   "outputs": [],
   "source": [
    "def probability_less_6(k):\n",
    "    total_outcomes = combination(n=49, k=6)\n",
    "    \n",
    "    successful_combinations = combination(n=6, k=k)\n",
    "    remaining_numbers = 49 - 6\n",
    "    left_combinations = combination(n=remaining_numbers, k=6-k)\n",
    "    successful_outcomes = successful_combinations * left_combinations\n",
    "    \n",
    "    probability = successful_outcomes / total_outcomes\n",
    "    print(f\"Probability of winning a prize with {k} matching number{'s' if k > 1 else ''}: {probability * 100:.10f}%\")"
   ]
  },
  {
   "cell_type": "code",
   "execution_count": 19,
   "metadata": {
    "ExecuteTime": {
     "end_time": "2025-02-17T15:35:01.737350Z",
     "start_time": "2025-02-17T15:35:01.735758Z"
    }
   },
   "outputs": [
    {
     "name": "stdout",
     "output_type": "stream",
     "text": [
      "Probability of winning a prize with 2 matching numbers: 13.2378029002%\n",
      "Probability of winning a prize with 3 matching numbers: 1.7650403867%\n",
      "Probability of winning a prize with 4 matching numbers: 0.0968619724%\n",
      "Probability of winning a prize with 5 matching numbers: 0.0018449900%\n",
      "Probability of winning a prize with 6 matching numbers: 0.0000071511%\n"
     ]
    }
   ],
   "source": [
    "for i in range(2,7):\n",
    "    probability_less_6(i)"
   ]
  },
  {
   "cell_type": "markdown",
   "metadata": {},
   "source": [
    "### Probability of having at least X winning numbers"
   ]
  },
  {
   "cell_type": "code",
   "execution_count": 20,
   "metadata": {
    "ExecuteTime": {
     "end_time": "2025-02-17T15:35:01.740698Z",
     "start_time": "2025-02-17T15:35:01.737851Z"
    }
   },
   "outputs": [],
   "source": [
    "def probability_at_least(x):\n",
    "    total_outcomes = combination(n=49, k=6)\n",
    "    successful_outcomes = 0\n",
    "    remaining_numbers = 49 - 6\n",
    "    \n",
    "    for k in range(x, 7):\n",
    "        successful_combinations = combination(n=6, k=k)\n",
    "        left_combinations = combination(n=remaining_numbers, k=6-k)\n",
    "        successful_outcomes += successful_combinations * left_combinations\n",
    "        \n",
    "    probability = successful_outcomes / total_outcomes\n",
    "    print(f\"Probability of winning a prize with at least {x} matching number{'s' if x > 1 else ''}: {probability * 100:.10f}%\")"
   ]
  },
  {
   "cell_type": "code",
   "execution_count": 21,
   "metadata": {
    "ExecuteTime": {
     "end_time": "2025-02-17T15:35:01.743013Z",
     "start_time": "2025-02-17T15:35:01.741425Z"
    }
   },
   "outputs": [
    {
     "name": "stdout",
     "output_type": "stream",
     "text": [
      "Probability of winning a prize with at least 2 matching numbers: 15.1015574004%\n",
      "Probability of winning a prize with at least 3 matching numbers: 1.8637545002%\n",
      "Probability of winning a prize with at least 4 matching numbers: 0.0987141135%\n",
      "Probability of winning a prize with at least 5 matching numbers: 0.0018521411%\n",
      "Probability of winning a prize with at least 6 matching numbers: 0.0000071511%\n"
     ]
    }
   ],
   "source": [
    "for i in range(2,7):\n",
    "    probability_at_least(i)"
   ]
  }
 ],
 "metadata": {
  "kernelspec": {
   "display_name": "Python 3 (ipykernel)",
   "language": "python",
   "name": "python3"
  },
  "language_info": {
   "codemirror_mode": {
    "name": "ipython",
    "version": 3
   },
   "file_extension": ".py",
   "mimetype": "text/x-python",
   "name": "python",
   "nbconvert_exporter": "python",
   "pygments_lexer": "ipython3",
   "version": "3.11.5"
  }
 },
 "nbformat": 4,
 "nbformat_minor": 2
}
